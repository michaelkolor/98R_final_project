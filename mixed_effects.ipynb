{
 "cells": [
  {
   "cell_type": "markdown",
   "metadata": {},
   "source": [
    "\n",
    "\n",
    "# Mixed Effects Model\n",
    "\n",
    "Do a Random slopes models, where the responses in a group follow a (conditional) mean trajectory that is linear in the observed covariates, with the slopes (and possibly intercepts) varying by group.\n",
    "\n",
    "Goal, identify diferent spread rates by county, state, region\n",
    "\n",
    "https://www.statsmodels.org/stable/examples/notebooks/generated/mixed_lm_example.html\n",
    "\n",
    "References¶\n",
    "The primary reference for the implementation details is:\n",
    "\n",
    "MJ Lindstrom, DM Bates (1988). Newton Raphson and EM algorithms for linear mixed effects models for repeated measures data. Journal of the American Statistical Association. Volume 83, Issue 404, pages 1014-1022.\n",
    "\n",
    "A model with two nested grouping factors: section 3\n",
    "http://econ.ucsb.edu/~doug/245a/Papers/Mixed%20Effects%20Implement.pdf"
   ]
  },
  {
   "cell_type": "code",
   "execution_count": 1,
   "metadata": {},
   "outputs": [],
   "source": [
    "import pandas as pd\n",
    "import numpy as np\n",
    "\n",
    "import statsmodels.api as sm\n",
    "from sklearn.model_selection import train_test_split\n",
    "import statsmodels.formula.api as smf\n",
    "\n"
   ]
  },
  {
   "cell_type": "markdown",
   "metadata": {},
   "source": [
    "# Read in Design Matrix"
   ]
  },
  {
   "cell_type": "code",
   "execution_count": 2,
   "metadata": {},
   "outputs": [],
   "source": [
    "design_matrix = pd.read_csv(\"design_matrix.csv\")"
   ]
  },
  {
   "cell_type": "markdown",
   "metadata": {},
   "source": [
    "# Prepare "
   ]
  },
  {
   "cell_type": "code",
   "execution_count": 3,
   "metadata": {},
   "outputs": [],
   "source": [
    "# Prepare for linear regression\n",
    "\n",
    "\n",
    "# drop columns\n",
    "cols_to_drop = [\"cases\", \"date\", \"deaths\"]######, \"FIPS\"]\n",
    "\n",
    "design_matrix_for_reg = design_matrix.drop(columns= cols_to_drop)\n",
    "\n",
    "# Set fips to string to not be altered\n",
    "design_matrix_for_reg[\"FIPS\"] = design_matrix_for_reg[\"FIPS\"].astype(\"str\")\n",
    "# DO NOT one-hot encode state\n",
    "#design_matrix_for_reg = pd.get_dummies(design_matrix_for_reg, columns=[\"state\"])\n",
    "\n",
    "# fill na's with state mean for pollutants\n",
    "design_matrix_for_reg[[\"NO2 AQI\", \"O3 AQI\", \"SO2 AQI\", \"CO AQI\"]]  = \\\n",
    "    design_matrix[[\"state\", \"NO2 AQI\", \"O3 AQI\", \"SO2 AQI\", \"CO AQI\"]].groupby(\n",
    "    \"state\").transform(lambda x: x.fillna(x.mean())).reset_index()[[\"NO2 AQI\", \"O3 AQI\", \"SO2 AQI\", \"CO AQI\"]]\n",
    "\n",
    "# fill na's with no state with national mean from other readings\n",
    "design_matrix_for_reg[[\"NO2 AQI\", \"O3 AQI\", \"SO2 AQI\", \"CO AQI\"]] = \\\n",
    "design_matrix_for_reg[[\"NO2 AQI\", \"O3 AQI\", \"SO2 AQI\", \"CO AQI\"]].fillna(design_matrix.mean())\n",
    "\n",
    "# impute nan county vmt with jan_avg_vmt\n",
    "design_matrix_for_reg.loc[\n",
    "    design_matrix_for_reg.county_vmt.isna(), \"county_vmt\"] = \\\n",
    "design_matrix_for_reg[\"jan_avg_vmt\"]"
   ]
  },
  {
   "cell_type": "code",
   "execution_count": 4,
   "metadata": {},
   "outputs": [],
   "source": [
    "# drop na's\n",
    "#####design_matrix_for_reg = pd.read_csv(\"design_matrix_for_linear_regression.csv\")\n",
    "design_matrix_lr = design_matrix_for_reg.dropna()"
   ]
  },
  {
   "cell_type": "code",
   "execution_count": 5,
   "metadata": {},
   "outputs": [],
   "source": [
    "# drop columns\n",
    "#print(design_matrix_lr.columns)\n",
    "cols_to_drop = [\"Unnamed: 0\", \"new_deaths\"] #\"Unnamed: 0.1\"\n",
    "design_matrix_lr = design_matrix_lr.drop(columns = cols_to_drop)"
   ]
  },
  {
   "cell_type": "markdown",
   "metadata": {},
   "source": [
    "# Data Transformation"
   ]
  },
  {
   "cell_type": "code",
   "execution_count": 6,
   "metadata": {},
   "outputs": [],
   "source": [
    "pop_feat_columns = [\"population\", \"jan_avg_vmt\", \"county_vmt\"]\n",
    "\n",
    "pop_case_columns = ['new_cases', 'new_cases_prev_5_days', 'new_deaths_prev_5_days',\n",
    "       'new_cases_prev_7_days', 'new_deaths_prev_7_days',\n",
    "       'new_cases_prev_14_days', 'new_deaths_prev_14_days']\n",
    "\n",
    "#np.log(design_matrix_lr.iloc[:,:-51] + 1).hist(figsize = (15, 20), xrot = 0.2);\n",
    "\n",
    "# divide population columns by population (per person)\n",
    "des_mat = design_matrix_lr.copy()\n",
    "# make it new cases per 100,000 people to be readable\n",
    "des_mat.loc[:, pop_case_columns] = np.log(des_mat.loc[:, pop_case_columns].divide(des_mat.loc[:, \"population\"], axis = \"index\") * 100000 + 1)\n",
    "des_mat.loc[:, pop_feat_columns] = np.log(des_mat.loc[:, pop_feat_columns].divide(des_mat.loc[:, \"population\"], axis = \"index\") + 1)\n",
    "des_mat = des_mat.drop(columns=\"population\")\n",
    "# square root of cit accessibility\n",
    "des_mat[\"city_accessibility\"] = np.sqrt(des_mat.loc[:,\"city_accessibility\"])"
   ]
  },
  {
   "cell_type": "code",
   "execution_count": 7,
   "metadata": {},
   "outputs": [
    {
     "data": {
      "text/plain": [
       "state                                                                        object\n",
       "median_age                                                                  float64\n",
       "female_percentage                                                           float64\n",
       "FIPS                                                                         object\n",
       "city_accessibility                                                          float64\n",
       "NO2_AQI                                                                     float64\n",
       "O3_AQI                                                                      float64\n",
       "SO2_AQI                                                                     float64\n",
       "CO_AQI                                                                      float64\n",
       "jan_avg_vmt                                                                 float64\n",
       "county_vmt                                                                  float64\n",
       "Category_Diarrhea_lower_respiratory_and_other_common_infectious_diseases    float64\n",
       "Category_Chronic_respiratory_diseases                                       float64\n",
       "mortality                                                                   float64\n",
       "travel_measure                                                              float64\n",
       "school_measure                                                              float64\n",
       "soc_dist_measure                                                            float64\n",
       "state_em_measure                                                            float64\n",
       "testing_measure                                                             float64\n",
       "new_cases                                                                   float64\n",
       "new_cases_prev_1_days                                                       float64\n",
       "new_deaths_prev_1_days                                                      float64\n",
       "new_cases_prev_5_days                                                       float64\n",
       "new_deaths_prev_5_days                                                      float64\n",
       "new_cases_prev_7_days                                                       float64\n",
       "new_deaths_prev_7_days                                                      float64\n",
       "new_cases_prev_14_days                                                      float64\n",
       "new_deaths_prev_14_days                                                     float64\n",
       "new_travel_measure_0_7_days_ago                                             float64\n",
       "new_school_measure_0_7_days_ago                                             float64\n",
       "new_soc_dist_measure_0_7_days_ago                                           float64\n",
       "new_state_em_measure_0_7_days_ago                                           float64\n",
       "new_testing_measure_0_7_days_ago                                            float64\n",
       "new_travel_measure_7_14_days_ago                                            float64\n",
       "new_school_measure_7_14_days_ago                                            float64\n",
       "new_soc_dist_measure_7_14_days_ago                                          float64\n",
       "new_state_em_measure_7_14_days_ago                                          float64\n",
       "new_testing_measure_7_14_days_ago                                           float64\n",
       "new_travel_measure_14_21_days_ago                                           float64\n",
       "new_school_measure_14_21_days_ago                                           float64\n",
       "new_soc_dist_measure_14_21_days_ago                                         float64\n",
       "new_state_em_measure_14_21_days_ago                                         float64\n",
       "new_testing_measure_14_21_days_ago                                          float64\n",
       "dtype: object"
      ]
     },
     "execution_count": 7,
     "metadata": {},
     "output_type": "execute_result"
    }
   ],
   "source": [
    "# remove white space with underscores for modeling\n",
    "des_mat.columns = des_mat.columns.str.replace(' ', '_')\n",
    "# remove commas as well\n",
    "des_mat.columns = des_mat.columns.str.replace(',', '')\n",
    "des_mat.dtypes"
   ]
  },
  {
   "cell_type": "markdown",
   "metadata": {},
   "source": [
    "# Modeling\n",
    "\n",
    "### nested example: https://www.statsmodels.org/stable/generated/statsmodels.regression.mixed_linear_model.MixedLM.from_formula.html\n",
    "\n",
    "https://stackoverflow.com/questions/47502398/python-statsmodels-mixedlm-mixed-linear-model-random-effects"
   ]
  },
  {
   "cell_type": "markdown",
   "metadata": {},
   "source": [
    "# Load design matrix"
   ]
  },
  {
   "cell_type": "code",
   "execution_count": 2,
   "metadata": {},
   "outputs": [],
   "source": [
    "# SAVE\n",
    "#des_mat.to_csv(\"design_matrix_lme.csv\")\n",
    "\n",
    "# LOAD \n",
    "des_mat = pd.read_csv(\"design_matrix_lme.csv\")"
   ]
  },
  {
   "cell_type": "code",
   "execution_count": 3,
   "metadata": {},
   "outputs": [],
   "source": [
    "cols_l1 = ['median_age', 'city_accessibility', 'jan_avg_vmt',\n",
    "       'county_vmt', 'Category_Chronic_respiratory_diseases',\n",
    "       'new_cases_prev_1_days', 'new_cases_prev_5_days',\n",
    "       'new_deaths_prev_5_days', 'new_cases_prev_7_days',\n",
    "       'new_cases_prev_14_days', 'new_school_measure_7_14_days_ago',\n",
    "       'new_soc_dist_measure_7_14_days_ago',\n",
    "       'new_school_measure_14_21_days_ago',\n",
    "       'new_soc_dist_measure_14_21_days_ago']\n",
    "\n",
    "cols_l1.append(\"state\")"
   ]
  },
  {
   "cell_type": "markdown",
   "metadata": {},
   "source": [
    "# For scope reasons, chose these methods to curtail"
   ]
  },
  {
   "cell_type": "code",
   "execution_count": 5,
   "metadata": {
    "scrolled": true
   },
   "outputs": [],
   "source": [
    "re_form = \"\"\"C(0 + city_accessibility) + (0 + jan_avg_vmt) + \n",
    "(0 + county_vmt) + (0 + Category_Chronic_respiratory_diseases)+ (0 + new_school_measure_7_14_days_ago) + \n",
    "(0 + new_soc_dist_measure_7_14_days_ago) + (0 + new_school_measure_14_21_days_ago) + \n",
    "(0 + new_soc_dist_measure_14_21_days_ago)\"\"\"\n"
   ]
  },
  {
   "cell_type": "code",
   "execution_count": null,
   "metadata": {},
   "outputs": [],
   "source": [
    "# X and Y\n",
    "X = des_mat.drop(columns=[\"new_cases\"]) # here we have 2 variables for the multiple linear regression. If you just want to use one variable for simple linear regression, then use X = df['Interest_Rate'] for example\n",
    "# make it new cases per 100,000 people to be readable\n",
    "y = des_mat['new_cases']\n",
    "\n",
    "# normalize for sensible results\n",
    "X.loc[:, X.dtypes != \"object\"]=(X.loc[:, X.dtypes != \"object\"]- \\\n",
    "                                X.loc[:, X.dtypes != \"object\"].mean())/ \\\n",
    "                                X.loc[:, X.dtypes != \"object\"].std()\n",
    "\n",
    "# fill flat distributions with 0\n",
    "X = X.fillna(0)\n",
    "\n",
    "# filter out columns with coefficients of 0 in lasso\n",
    "X = X[cols_l1]\n",
    "\n",
    "X[\"new_cases\"] = y\n",
    "\n",
    "# train_test split\n",
    "train, test, = train_test_split(\n",
    "    X, test_size=0.1, random_state=42)\n",
    "\n",
    "# list of features to use for model\n",
    "feature_string = \"\"\n",
    "#re_form = \"\"\n",
    "feats_to_use = list(train.columns[1:4]) + list(train.columns[4:-1])\n",
    "for feat in train.columns[:-2]:#feats_to_use:\n",
    "    if feat == train.columns[-3]:#feats_to_use[-1]:    \n",
    "        feature_string = feature_string + \"{}\".format(feat)\n",
    "        #re_form = re_form + \"(0 + {})\".format(feat)\n",
    "    elif feat == \"FIPS\":\n",
    "        pass#feature_string = feature_string + \"C({}) + \".format(feat)\n",
    "    else:\n",
    "        feature_string = feature_string + \"{} + \".format(feat)\n",
    "        #re_form = re_form + \"(0 + {}) + \".format(feat)\n",
    "\n",
    "# make model\n",
    "md = smf.mixedlm(\"new_cases ~ {}\".format(feature_string), train, re_formula = re_form, groups=train[\"state\"])\n",
    "#model = sm.OLS(endog = y_train, exog = X_train).fit_regularized(method = \"elastic_net\", alpha = 0.01, L1_wt = 1, refit = True)\n",
    "\n",
    "#print_model = model.summary()\n",
    "#print_model"
   ]
  },
  {
   "cell_type": "code",
   "execution_count": null,
   "metadata": {},
   "outputs": [],
   "source": [
    "# Fit model\n",
    "mdf = md.fit()"
   ]
  },
  {
   "cell_type": "code",
   "execution_count": 7,
   "metadata": {},
   "outputs": [
    {
     "data": {
      "text/html": [
       "<table class=\"simpletable\">\n",
       "<tr>\n",
       "       <td>Model:</td>       <td>MixedLM</td> <td>Dependent Variable:</td>   <td>new_cases</td> \n",
       "</tr>\n",
       "<tr>\n",
       "  <td>No. Observations:</td> <td>126223</td>        <td>Method:</td>           <td>REML</td>    \n",
       "</tr>\n",
       "<tr>\n",
       "     <td>No. Groups:</td>      <td>49</td>          <td>Scale:</td>           <td>0.3607</td>   \n",
       "</tr>\n",
       "<tr>\n",
       "  <td>Min. group size:</td>    <td>40</td>        <td>Likelihood:</td>     <td>-115174.6541</td>\n",
       "</tr>\n",
       "<tr>\n",
       "  <td>Max. group size:</td>   <td>10351</td>      <td>Converged:</td>           <td>Yes</td>    \n",
       "</tr>\n",
       "<tr>\n",
       "  <td>Mean group size:</td>  <td>2576.0</td>           <td></td>                 <td></td>      \n",
       "</tr>\n",
       "</table>\n",
       "<table class=\"simpletable\">\n",
       "<tr>\n",
       "                                         <td></td>                                          <th>Coef.</th> <th>Std.Err.</th>    <th>z</th>    <th>P>|z|</th> <th>[0.025</th> <th>0.975]</th>\n",
       "</tr>\n",
       "<tr>\n",
       "  <th>Intercept</th>                                                                        <td>0.377</td>   <td>0.004</td>  <td>92.305</td>  <td>0.000</td>  <td>0.369</td>  <td>0.385</td>\n",
       "</tr>\n",
       "<tr>\n",
       "  <th>median_age</th>                                                                      <td>-0.034</td>   <td>0.002</td>  <td>-17.776</td> <td>0.000</td> <td>-0.038</td> <td>-0.030</td>\n",
       "</tr>\n",
       "<tr>\n",
       "  <th>city_accessibility</th>                                                              <td>-0.059</td>   <td>0.008</td>  <td>-7.325</td>  <td>0.000</td> <td>-0.075</td> <td>-0.043</td>\n",
       "</tr>\n",
       "<tr>\n",
       "  <th>jan_avg_vmt</th>                                                                      <td>0.063</td>   <td>0.011</td>   <td>5.979</td>  <td>0.000</td>  <td>0.042</td>  <td>0.083</td>\n",
       "</tr>\n",
       "<tr>\n",
       "  <th>county_vmt</th>                                                                      <td>-0.084</td>   <td>0.014</td>  <td>-6.047</td>  <td>0.000</td> <td>-0.111</td> <td>-0.056</td>\n",
       "</tr>\n",
       "<tr>\n",
       "  <th>Category_Chronic_respiratory_diseases</th>                                           <td>-0.023</td>   <td>0.006</td>  <td>-3.965</td>  <td>0.000</td> <td>-0.034</td> <td>-0.012</td>\n",
       "</tr>\n",
       "<tr>\n",
       "  <th>new_cases_prev_1_days</th>                                                            <td>0.026</td>   <td>0.002</td>  <td>14.104</td>  <td>0.000</td>  <td>0.023</td>  <td>0.030</td>\n",
       "</tr>\n",
       "<tr>\n",
       "  <th>new_cases_prev_5_days</th>                                                            <td>0.111</td>   <td>0.008</td>  <td>14.188</td>  <td>0.000</td>  <td>0.096</td>  <td>0.126</td>\n",
       "</tr>\n",
       "<tr>\n",
       "  <th>new_deaths_prev_5_days</th>                                                           <td>0.058</td>   <td>0.002</td>  <td>23.765</td>  <td>0.000</td>  <td>0.053</td>  <td>0.062</td>\n",
       "</tr>\n",
       "<tr>\n",
       "  <th>new_cases_prev_7_days</th>                                                            <td>0.118</td>   <td>0.011</td>  <td>11.224</td>  <td>0.000</td>  <td>0.097</td>  <td>0.139</td>\n",
       "</tr>\n",
       "<tr>\n",
       "  <th>new_cases_prev_14_days</th>                                                           <td>0.204</td>   <td>0.007</td>  <td>28.324</td>  <td>0.000</td>  <td>0.190</td>  <td>0.218</td>\n",
       "</tr>\n",
       "<tr>\n",
       "  <th>new_school_measure_7_14_days_ago</th>                                                <td>-0.016</td>   <td>0.014</td>  <td>-1.119</td>  <td>0.263</td> <td>-0.044</td>  <td>0.012</td>\n",
       "</tr>\n",
       "<tr>\n",
       "  <th>new_soc_dist_measure_7_14_days_ago</th>                                               <td>0.058</td>   <td>0.010</td>   <td>5.503</td>  <td>0.000</td>  <td>0.037</td>  <td>0.078</td>\n",
       "</tr>\n",
       "<tr>\n",
       "  <th>new_school_measure_14_21_days_ago</th>                                               <td>-0.015</td>   <td>0.017</td>  <td>-0.843</td>  <td>0.399</td> <td>-0.049</td>  <td>0.020</td>\n",
       "</tr>\n",
       "<tr>\n",
       "  <th>new_soc_dist_measure_14_21_days_ago</th>                                              <td>0.068</td>   <td>0.011</td>   <td>6.332</td>  <td>0.000</td>  <td>0.047</td>  <td>0.089</td>\n",
       "</tr>\n",
       "<tr>\n",
       "  <th>city_accessibility Var</th>                                                           <td>0.003</td>   <td>0.001</td>     <td></td>       <td></td>       <td></td>       <td></td>   \n",
       "</tr>\n",
       "<tr>\n",
       "  <th>city_accessibility x jan_avg_vmt Cov</th>                                            <td>-0.001</td>   <td>0.001</td>     <td></td>       <td></td>       <td></td>       <td></td>   \n",
       "</tr>\n",
       "<tr>\n",
       "  <th>jan_avg_vmt Var</th>                                                                  <td>0.004</td>   <td>0.002</td>     <td></td>       <td></td>       <td></td>       <td></td>   \n",
       "</tr>\n",
       "<tr>\n",
       "  <th>city_accessibility x county_vmt Cov</th>                                              <td>0.001</td>   <td>0.001</td>     <td></td>       <td></td>       <td></td>       <td></td>   \n",
       "</tr>\n",
       "<tr>\n",
       "  <th>jan_avg_vmt x county_vmt Cov</th>                                                    <td>-0.005</td>   <td>0.002</td>     <td></td>       <td></td>       <td></td>       <td></td>   \n",
       "</tr>\n",
       "<tr>\n",
       "  <th>county_vmt Var</th>                                                                   <td>0.008</td>   <td>0.003</td>     <td></td>       <td></td>       <td></td>       <td></td>   \n",
       "</tr>\n",
       "<tr>\n",
       "  <th>city_accessibility x Category_Chronic_respiratory_diseases Cov</th>                   <td>0.000</td>   <td>0.001</td>     <td></td>       <td></td>       <td></td>       <td></td>   \n",
       "</tr>\n",
       "<tr>\n",
       "  <th>jan_avg_vmt x Category_Chronic_respiratory_diseases Cov</th>                         <td>-0.001</td>   <td>0.001</td>     <td></td>       <td></td>       <td></td>       <td></td>   \n",
       "</tr>\n",
       "<tr>\n",
       "  <th>county_vmt x Category_Chronic_respiratory_diseases Cov</th>                           <td>0.001</td>   <td>0.001</td>     <td></td>       <td></td>       <td></td>       <td></td>   \n",
       "</tr>\n",
       "<tr>\n",
       "  <th>Category_Chronic_respiratory_diseases Var</th>                                        <td>0.001</td>   <td>0.001</td>     <td></td>       <td></td>       <td></td>       <td></td>   \n",
       "</tr>\n",
       "<tr>\n",
       "  <th>city_accessibility x new_school_measure_7_14_days_ago Cov</th>                       <td>-0.000</td>   <td>0.001</td>     <td></td>       <td></td>       <td></td>       <td></td>   \n",
       "</tr>\n",
       "<tr>\n",
       "  <th>jan_avg_vmt x new_school_measure_7_14_days_ago Cov</th>                              <td>-0.000</td>   <td>0.002</td>     <td></td>       <td></td>       <td></td>       <td></td>   \n",
       "</tr>\n",
       "<tr>\n",
       "  <th>county_vmt x new_school_measure_7_14_days_ago Cov</th>                               <td>-0.000</td>   <td>0.002</td>     <td></td>       <td></td>       <td></td>       <td></td>   \n",
       "</tr>\n",
       "<tr>\n",
       "  <th>Category_Chronic_respiratory_diseases x new_school_measure_7_14_days_ago Cov</th>    <td>-0.000</td>   <td>0.001</td>     <td></td>       <td></td>       <td></td>       <td></td>   \n",
       "</tr>\n",
       "<tr>\n",
       "  <th>new_school_measure_7_14_days_ago Var</th>                                             <td>0.006</td>   <td>0.004</td>     <td></td>       <td></td>       <td></td>       <td></td>   \n",
       "</tr>\n",
       "<tr>\n",
       "  <th>city_accessibility x new_soc_dist_measure_7_14_days_ago Cov</th>                     <td>-0.000</td>   <td>0.001</td>     <td></td>       <td></td>       <td></td>       <td></td>   \n",
       "</tr>\n",
       "<tr>\n",
       "  <th>jan_avg_vmt x new_soc_dist_measure_7_14_days_ago Cov</th>                            <td>-0.001</td>   <td>0.001</td>     <td></td>       <td></td>       <td></td>       <td></td>   \n",
       "</tr>\n",
       "<tr>\n",
       "  <th>county_vmt x new_soc_dist_measure_7_14_days_ago Cov</th>                              <td>0.002</td>   <td>0.002</td>     <td></td>       <td></td>       <td></td>       <td></td>   \n",
       "</tr>\n",
       "<tr>\n",
       "  <th>Category_Chronic_respiratory_diseases x new_soc_dist_measure_7_14_days_ago Cov</th>   <td>0.000</td>   <td>0.001</td>     <td></td>       <td></td>       <td></td>       <td></td>   \n",
       "</tr>\n",
       "<tr>\n",
       "  <th>new_school_measure_7_14_days_ago x new_soc_dist_measure_7_14_days_ago Cov</th>       <td>-0.004</td>   <td>0.002</td>     <td></td>       <td></td>       <td></td>       <td></td>   \n",
       "</tr>\n",
       "<tr>\n",
       "  <th>new_soc_dist_measure_7_14_days_ago Var</th>                                           <td>0.004</td>   <td>0.002</td>     <td></td>       <td></td>       <td></td>       <td></td>   \n",
       "</tr>\n",
       "<tr>\n",
       "  <th>city_accessibility x new_school_measure_14_21_days_ago Cov</th>                      <td>-0.001</td>   <td>0.001</td>     <td></td>       <td></td>       <td></td>       <td></td>   \n",
       "</tr>\n",
       "<tr>\n",
       "  <th>jan_avg_vmt x new_school_measure_14_21_days_ago Cov</th>                              <td>0.001</td>   <td>0.002</td>     <td></td>       <td></td>       <td></td>       <td></td>   \n",
       "</tr>\n",
       "<tr>\n",
       "  <th>county_vmt x new_school_measure_14_21_days_ago Cov</th>                              <td>-0.001</td>   <td>0.003</td>     <td></td>       <td></td>       <td></td>       <td></td>   \n",
       "</tr>\n",
       "<tr>\n",
       "  <th>Category_Chronic_respiratory_diseases x new_school_measure_14_21_days_ago Cov</th>    <td>0.000</td>   <td>0.001</td>     <td></td>       <td></td>       <td></td>       <td></td>   \n",
       "</tr>\n",
       "<tr>\n",
       "  <th>new_school_measure_7_14_days_ago x new_school_measure_14_21_days_ago Cov</th>         <td>0.006</td>   <td>0.003</td>     <td></td>       <td></td>       <td></td>       <td></td>   \n",
       "</tr>\n",
       "<tr>\n",
       "  <th>new_soc_dist_measure_7_14_days_ago x new_school_measure_14_21_days_ago Cov</th>      <td>-0.003</td>   <td>0.002</td>     <td></td>       <td></td>       <td></td>       <td></td>   \n",
       "</tr>\n",
       "<tr>\n",
       "  <th>new_school_measure_14_21_days_ago Var</th>                                            <td>0.010</td>   <td>0.006</td>     <td></td>       <td></td>       <td></td>       <td></td>   \n",
       "</tr>\n",
       "<tr>\n",
       "  <th>city_accessibility x new_soc_dist_measure_14_21_days_ago Cov</th>                    <td>-0.001</td>   <td>0.001</td>     <td></td>       <td></td>       <td></td>       <td></td>   \n",
       "</tr>\n",
       "<tr>\n",
       "  <th>jan_avg_vmt x new_soc_dist_measure_14_21_days_ago Cov</th>                            <td>0.000</td>   <td>0.001</td>     <td></td>       <td></td>       <td></td>       <td></td>   \n",
       "</tr>\n",
       "<tr>\n",
       "  <th>county_vmt x new_soc_dist_measure_14_21_days_ago Cov</th>                            <td>-0.000</td>   <td>0.002</td>     <td></td>       <td></td>       <td></td>       <td></td>   \n",
       "</tr>\n",
       "<tr>\n",
       "  <th>Category_Chronic_respiratory_diseases x new_soc_dist_measure_14_21_days_ago Cov</th> <td>-0.000</td>   <td>0.001</td>     <td></td>       <td></td>       <td></td>       <td></td>   \n",
       "</tr>\n",
       "<tr>\n",
       "  <th>new_school_measure_7_14_days_ago x new_soc_dist_measure_14_21_days_ago Cov</th>      <td>-0.002</td>   <td>0.002</td>     <td></td>       <td></td>       <td></td>       <td></td>   \n",
       "</tr>\n",
       "<tr>\n",
       "  <th>new_soc_dist_measure_7_14_days_ago x new_soc_dist_measure_14_21_days_ago Cov</th>     <td>0.002</td>   <td>0.002</td>     <td></td>       <td></td>       <td></td>       <td></td>   \n",
       "</tr>\n",
       "<tr>\n",
       "  <th>new_school_measure_14_21_days_ago x new_soc_dist_measure_14_21_days_ago Cov</th>     <td>-0.005</td>   <td>0.003</td>     <td></td>       <td></td>       <td></td>       <td></td>   \n",
       "</tr>\n",
       "<tr>\n",
       "  <th>new_soc_dist_measure_14_21_days_ago Var</th>                                          <td>0.004</td>   <td>0.002</td>     <td></td>       <td></td>       <td></td>       <td></td>   \n",
       "</tr>\n",
       "</table>"
      ],
      "text/plain": [
       "<class 'statsmodels.iolib.summary2.Summary'>\n",
       "\"\"\"\n",
       "                                           Mixed Linear Model Regression Results\n",
       "===========================================================================================================================\n",
       "Model:                                   MixedLM                      Dependent Variable:                      new_cases   \n",
       "No. Observations:                        126223                       Method:                                  REML        \n",
       "No. Groups:                              49                           Scale:                                   0.3607      \n",
       "Min. group size:                         40                           Likelihood:                              -115174.6541\n",
       "Max. group size:                         10351                        Converged:                               Yes         \n",
       "Mean group size:                         2576.0                                                                            \n",
       "---------------------------------------------------------------------------------------------------------------------------\n",
       "                                                                                Coef.  Std.Err.    z    P>|z| [0.025 0.975]\n",
       "---------------------------------------------------------------------------------------------------------------------------\n",
       "Intercept                                                                        0.377    0.004  92.305 0.000  0.369  0.385\n",
       "median_age                                                                      -0.034    0.002 -17.776 0.000 -0.038 -0.030\n",
       "city_accessibility                                                              -0.059    0.008  -7.325 0.000 -0.075 -0.043\n",
       "jan_avg_vmt                                                                      0.063    0.011   5.979 0.000  0.042  0.083\n",
       "county_vmt                                                                      -0.084    0.014  -6.047 0.000 -0.111 -0.056\n",
       "Category_Chronic_respiratory_diseases                                           -0.023    0.006  -3.965 0.000 -0.034 -0.012\n",
       "new_cases_prev_1_days                                                            0.026    0.002  14.104 0.000  0.023  0.030\n",
       "new_cases_prev_5_days                                                            0.111    0.008  14.188 0.000  0.096  0.126\n",
       "new_deaths_prev_5_days                                                           0.058    0.002  23.765 0.000  0.053  0.062\n",
       "new_cases_prev_7_days                                                            0.118    0.011  11.224 0.000  0.097  0.139\n",
       "new_cases_prev_14_days                                                           0.204    0.007  28.324 0.000  0.190  0.218\n",
       "new_school_measure_7_14_days_ago                                                -0.016    0.014  -1.119 0.263 -0.044  0.012\n",
       "new_soc_dist_measure_7_14_days_ago                                               0.058    0.010   5.503 0.000  0.037  0.078\n",
       "new_school_measure_14_21_days_ago                                               -0.015    0.017  -0.843 0.399 -0.049  0.020\n",
       "new_soc_dist_measure_14_21_days_ago                                              0.068    0.011   6.332 0.000  0.047  0.089\n",
       "city_accessibility Var                                                           0.003    0.001                            \n",
       "city_accessibility x jan_avg_vmt Cov                                            -0.001    0.001                            \n",
       "jan_avg_vmt Var                                                                  0.004    0.002                            \n",
       "city_accessibility x county_vmt Cov                                              0.001    0.001                            \n",
       "jan_avg_vmt x county_vmt Cov                                                    -0.005    0.002                            \n",
       "county_vmt Var                                                                   0.008    0.003                            \n",
       "city_accessibility x Category_Chronic_respiratory_diseases Cov                   0.000    0.001                            \n",
       "jan_avg_vmt x Category_Chronic_respiratory_diseases Cov                         -0.001    0.001                            \n",
       "county_vmt x Category_Chronic_respiratory_diseases Cov                           0.001    0.001                            \n",
       "Category_Chronic_respiratory_diseases Var                                        0.001    0.001                            \n",
       "city_accessibility x new_school_measure_7_14_days_ago Cov                       -0.000    0.001                            \n",
       "jan_avg_vmt x new_school_measure_7_14_days_ago Cov                              -0.000    0.002                            \n",
       "county_vmt x new_school_measure_7_14_days_ago Cov                               -0.000    0.002                            \n",
       "Category_Chronic_respiratory_diseases x new_school_measure_7_14_days_ago Cov    -0.000    0.001                            \n",
       "new_school_measure_7_14_days_ago Var                                             0.006    0.004                            \n",
       "city_accessibility x new_soc_dist_measure_7_14_days_ago Cov                     -0.000    0.001                            \n",
       "jan_avg_vmt x new_soc_dist_measure_7_14_days_ago Cov                            -0.001    0.001                            \n",
       "county_vmt x new_soc_dist_measure_7_14_days_ago Cov                              0.002    0.002                            \n",
       "Category_Chronic_respiratory_diseases x new_soc_dist_measure_7_14_days_ago Cov   0.000    0.001                            \n",
       "new_school_measure_7_14_days_ago x new_soc_dist_measure_7_14_days_ago Cov       -0.004    0.002                            \n",
       "new_soc_dist_measure_7_14_days_ago Var                                           0.004    0.002                            \n",
       "city_accessibility x new_school_measure_14_21_days_ago Cov                      -0.001    0.001                            \n",
       "jan_avg_vmt x new_school_measure_14_21_days_ago Cov                              0.001    0.002                            \n",
       "county_vmt x new_school_measure_14_21_days_ago Cov                              -0.001    0.003                            \n",
       "Category_Chronic_respiratory_diseases x new_school_measure_14_21_days_ago Cov    0.000    0.001                            \n",
       "new_school_measure_7_14_days_ago x new_school_measure_14_21_days_ago Cov         0.006    0.003                            \n",
       "new_soc_dist_measure_7_14_days_ago x new_school_measure_14_21_days_ago Cov      -0.003    0.002                            \n",
       "new_school_measure_14_21_days_ago Var                                            0.010    0.006                            \n",
       "city_accessibility x new_soc_dist_measure_14_21_days_ago Cov                    -0.001    0.001                            \n",
       "jan_avg_vmt x new_soc_dist_measure_14_21_days_ago Cov                            0.000    0.001                            \n",
       "county_vmt x new_soc_dist_measure_14_21_days_ago Cov                            -0.000    0.002                            \n",
       "Category_Chronic_respiratory_diseases x new_soc_dist_measure_14_21_days_ago Cov -0.000    0.001                            \n",
       "new_school_measure_7_14_days_ago x new_soc_dist_measure_14_21_days_ago Cov      -0.002    0.002                            \n",
       "new_soc_dist_measure_7_14_days_ago x new_soc_dist_measure_14_21_days_ago Cov     0.002    0.002                            \n",
       "new_school_measure_14_21_days_ago x new_soc_dist_measure_14_21_days_ago Cov     -0.005    0.003                            \n",
       "new_soc_dist_measure_14_21_days_ago Var                                          0.004    0.002                            \n",
       "===========================================================================================================================\n",
       "\n",
       "\"\"\""
      ]
     },
     "execution_count": 7,
     "metadata": {},
     "output_type": "execute_result"
    }
   ],
   "source": [
    "mdf.summary()"
   ]
  },
  {
   "cell_type": "code",
   "execution_count": 12,
   "metadata": {},
   "outputs": [
    {
     "data": {
      "image/png": "[encoded data removed]",
      "text/plain": [
       "<Figure size 288x288 with 1 Axes>"
      ]
     },
     "metadata": {
      "needs_background": "light"
     },
     "output_type": "display_data"
    }
   ],
   "source": [
    "X[\"new_cases\"].hist(figsize=(4,4));"
   ]
  },
  {
   "cell_type": "code",
   "execution_count": null,
   "metadata": {},
   "outputs": [],
   "source": []
  },
  {
   "cell_type": "code",
   "execution_count": 14,
   "metadata": {},
   "outputs": [
    {
     "data": {
      "text/plain": [
       "Intercept                                0.377067\n",
       "median_age                              -0.034275\n",
       "city_accessibility                      -0.058873\n",
       "jan_avg_vmt                              0.062789\n",
       "county_vmt                              -0.083545\n",
       "Category_Chronic_respiratory_diseases   -0.022752\n",
       "new_cases_prev_1_days                    0.026478\n",
       "new_cases_prev_5_days                    0.110956\n",
       "new_deaths_prev_5_days                   0.057560\n",
       "new_cases_prev_7_days                    0.118004\n",
       "new_cases_prev_14_days                   0.203798\n",
       "new_school_measure_7_14_days_ago        -0.015949\n",
       "new_soc_dist_measure_7_14_days_ago       0.057559\n",
       "new_school_measure_14_21_days_ago       -0.014717\n",
       "new_soc_dist_measure_14_21_days_ago      0.067698\n",
       "dtype: float64"
      ]
     },
     "execution_count": 14,
     "metadata": {},
     "output_type": "execute_result"
    }
   ],
   "source": [
    "mdf.fe_params"
   ]
  },
  {
   "cell_type": "code",
   "execution_count": null,
   "metadata": {},
   "outputs": [],
   "source": []
  }
 ],
 "metadata": {
  "kernelspec": {
   "display_name": "python3",
   "language": "python",
   "name": "python3"
  },
  "language_info": {
   "codemirror_mode": {
    "name": "ipython",
    "version": 3
   },
   "file_extension": ".py",
   "mimetype": "text/x-python",
   "name": "python",
   "nbconvert_exporter": "python",
   "pygments_lexer": "ipython3",
   "version": "3.7.4"
  }
 },
 "nbformat": 4,
 "nbformat_minor": 2
}
